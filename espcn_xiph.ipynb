{
  "nbformat": 4,
  "nbformat_minor": 0,
  "metadata": {
    "colab": {
      "name": "espcn_xiph",
      "provenance": [],
      "collapsed_sections": [],
      "include_colab_link": true
    },
    "kernelspec": {
      "name": "python3",
      "display_name": "Python 3"
    },
    "language_info": {
      "name": "python"
    },
    "accelerator": "GPU"
  },
  "cells": [
    {
      "cell_type": "markdown",
      "metadata": {
        "id": "view-in-github",
        "colab_type": "text"
      },
      "source": [
        "<a href=\"https://colab.research.google.com/github/jaivanti/syracuse/blob/main/espcn_xiph.ipynb\" target=\"_parent\"><img src=\"https://colab.research.google.com/assets/colab-badge.svg\" alt=\"Open In Colab\"/></a>"
      ]
    },
    {
      "cell_type": "code",
      "metadata": {
        "id": "Eg_bgl6xLB5j"
      },
      "source": [
        ""
      ],
      "execution_count": null,
      "outputs": []
    },
    {
      "cell_type": "markdown",
      "metadata": {
        "id": "68xj8U-7Utia"
      },
      "source": [
        "import libraries"
      ]
    },
    {
      "cell_type": "code",
      "metadata": {
        "id": "sERHTZU9N8Qk"
      },
      "source": [
        "import tensorflow as tf\n",
        "\n",
        "import os\n",
        "import math\n",
        "import numpy as np\n",
        "import time\n",
        "from tensorflow import keras\n",
        "from tensorflow.keras import layers\n",
        "from tensorflow.keras.preprocessing.image import load_img\n",
        "from tensorflow.keras.preprocessing.image import array_to_img\n",
        "from tensorflow.keras.preprocessing.image import img_to_array\n",
        "from tensorflow.keras.preprocessing import image_dataset_from_directory\n",
        "import cv2\n",
        "from IPython.display import display\n",
        "from keras.models import load_model\n",
        "import PIL"
      ],
      "execution_count": null,
      "outputs": []
    },
    {
      "cell_type": "markdown",
      "metadata": {
        "id": "n3zZHxSzUwQ7"
      },
      "source": [
        "get all values for upscaling"
      ]
    },
    {
      "cell_type": "code",
      "metadata": {
        "id": "Y-NbFO8POENp"
      },
      "source": [
        "def get_lowres_image(img, upscale_factor):\n",
        "  \"\"\"Return low-resolution image to use as model input.\"\"\"\n",
        "  return img.resize((img.size[0] // upscale_factor, img.size[1] // upscale_factor),PIL.Image.BICUBIC)"
      ],
      "execution_count": null,
      "outputs": []
    },
    {
      "cell_type": "code",
      "metadata": {
        "id": "4MlOb5SQUTBL"
      },
      "source": [
        "\n",
        "def upscale_image(model, img):\n",
        "    \"\"\"Predict the result based on input image and restore the image as RGB.\"\"\"\n",
        "  \n",
        "    #ycbcr = img.convert(\"YCbCr\")\n",
        "    ycbcr = load_img('/content/drive/MyDrive/SRCDN/LR/video14/1.bmp')\n",
        "    y, cb, cr = ycbcr.split()\n",
        "    y = img_to_array(y)\n",
        "    y = y.astype(\"float32\") / 255.0\n",
        "    \n",
        "    input = np.expand_dims(y, axis=0)\n",
        "    out = model.predict(input)\n",
        "\n",
        "\n",
        "    out_img_y = out[0]\n",
        "    out_img_y *= 255.0\n",
        "\n",
        "    # Restore the image in RGB color space.\n",
        "    out_img_y = out_img_y.clip(0, 255)\n",
        "    out_img_y = out_img_y.reshape((np.shape(out_img_y)[0], np.shape(out_img_y)[1]))\n",
        "    out_img_y = PIL.Image.fromarray(np.uint8(out_img_y), mode=\"L\")\n",
        "    out_img_cb = cb.resize(out_img_y.size, PIL.Image.BICUBIC)\n",
        "    out_img_cr = cr.resize(out_img_y.size, PIL.Image.BICUBIC)\n",
        "    out_img = PIL.Image.merge(\"YCbCr\", (out_img_y, out_img_cb, out_img_cr)).convert(\n",
        "        \"RGB\"\n",
        "    )\n",
        "    return out_img\n"
      ],
      "execution_count": null,
      "outputs": []
    },
    {
      "cell_type": "markdown",
      "metadata": {
        "id": "gj3rzpBOU2XK"
      },
      "source": [
        "load model"
      ]
    },
    {
      "cell_type": "code",
      "metadata": {
        "id": "wfRutkW5UwiS"
      },
      "source": [
        "#model = load_model(\"/content/drive/MyDrive/SRCDN/model/network.h5\")   #suyash\n",
        "model = load_model(\"/content/drive/MyDrive/SRCDN/model/gfgModel.h5\")   #jaivanti"
      ],
      "execution_count": null,
      "outputs": []
    },
    {
      "cell_type": "code",
      "metadata": {
        "id": "Q4sGk0M96Z0l",
        "colab": {
          "base_uri": "https://localhost:8080/"
        },
        "outputId": "0cebb376-124c-4203-91e7-86f77f25d972"
      },
      "source": [
        "from google.colab import drive\n",
        "drive.mount('/content/drive')"
      ],
      "execution_count": null,
      "outputs": [
        {
          "output_type": "stream",
          "name": "stdout",
          "text": [
            "Mounted at /content/drive\n"
          ]
        }
      ]
    },
    {
      "cell_type": "code",
      "metadata": {
        "id": "Tgx650vWLTgr"
      },
      "source": [
        ""
      ],
      "execution_count": null,
      "outputs": []
    },
    {
      "cell_type": "markdown",
      "metadata": {
        "id": "4BkaY5YjU4FK"
      },
      "source": [
        "create directories"
      ]
    },
    {
      "cell_type": "code",
      "metadata": {
        "id": "8rxbOiFVezkU",
        "colab": {
          "base_uri": "https://localhost:8080/"
        },
        "outputId": "3e80eb50-e0b4-4d25-f22a-223086c0be13"
      },
      "source": [
        "#!mkdir /content/drive/MyDrive/SRCDN/LR/video2\n",
        "!mkdir /content/drive/MyDrive/SRCDN/LR/video16\n",
        "%cd /content/drive/MyDrive/SRCDN/LR/video16"
      ],
      "execution_count": null,
      "outputs": [
        {
          "output_type": "stream",
          "name": "stdout",
          "text": [
            "/content/drive/.shortcut-targets-by-id/1lZzJclOmbbPx_0_m3KHq80BRx5R6ZSuO/SRCDN/LR/video16\n"
          ]
        }
      ]
    },
    {
      "cell_type": "code",
      "metadata": {
        "id": "Em2I6t2DOC4k",
        "colab": {
          "base_uri": "https://localhost:8080/"
        },
        "outputId": "f09ca662-f004-4c62-ba3f-7dfe4797b695"
      },
      "source": [
        "!mkdir /content/drive/MyDrive/SRCDN/result/video16"
      ],
      "execution_count": null,
      "outputs": [
        {
          "output_type": "stream",
          "name": "stdout",
          "text": [
            "mkdir: cannot create directory ‘/content/drive/MyDrive/SRCDN/result/video16’: File exists\n"
          ]
        }
      ]
    },
    {
      "cell_type": "code",
      "metadata": {
        "id": "O1gUG21uU8On"
      },
      "source": [
        ""
      ],
      "execution_count": null,
      "outputs": []
    },
    {
      "cell_type": "markdown",
      "metadata": {
        "id": "G75_09BuU84s"
      },
      "source": [
        "load the bus_cif.yuv file from drive with size 352x288"
      ]
    },
    {
      "cell_type": "code",
      "metadata": {
        "colab": {
          "base_uri": "https://localhost:8080/"
        },
        "id": "kZUxO6gR8ajN",
        "outputId": "15b16b21-6001-4029-ebf2-8bb643dbe8ff"
      },
      "source": [
        "!ffmpeg -s 352x288 -i /content/bus_cif.yuv %d.bmp"
      ],
      "execution_count": null,
      "outputs": [
        {
          "output_type": "stream",
          "name": "stdout",
          "text": [
            "ffmpeg version 3.4.8-0ubuntu0.2 Copyright (c) 2000-2020 the FFmpeg developers\n",
            "  built with gcc 7 (Ubuntu 7.5.0-3ubuntu1~18.04)\n",
            "  configuration: --prefix=/usr --extra-version=0ubuntu0.2 --toolchain=hardened --libdir=/usr/lib/x86_64-linux-gnu --incdir=/usr/include/x86_64-linux-gnu --enable-gpl --disable-stripping --enable-avresample --enable-avisynth --enable-gnutls --enable-ladspa --enable-libass --enable-libbluray --enable-libbs2b --enable-libcaca --enable-libcdio --enable-libflite --enable-libfontconfig --enable-libfreetype --enable-libfribidi --enable-libgme --enable-libgsm --enable-libmp3lame --enable-libmysofa --enable-libopenjpeg --enable-libopenmpt --enable-libopus --enable-libpulse --enable-librubberband --enable-librsvg --enable-libshine --enable-libsnappy --enable-libsoxr --enable-libspeex --enable-libssh --enable-libtheora --enable-libtwolame --enable-libvorbis --enable-libvpx --enable-libwavpack --enable-libwebp --enable-libx265 --enable-libxml2 --enable-libxvid --enable-libzmq --enable-libzvbi --enable-omx --enable-openal --enable-opengl --enable-sdl2 --enable-libdc1394 --enable-libdrm --enable-libiec61883 --enable-chromaprint --enable-frei0r --enable-libopencv --enable-libx264 --enable-shared\n",
            "  libavutil      55. 78.100 / 55. 78.100\n",
            "  libavcodec     57.107.100 / 57.107.100\n",
            "  libavformat    57. 83.100 / 57. 83.100\n",
            "  libavdevice    57. 10.100 / 57. 10.100\n",
            "  libavfilter     6.107.100 /  6.107.100\n",
            "  libavresample   3.  7.  0 /  3.  7.  0\n",
            "  libswscale      4.  8.100 /  4.  8.100\n",
            "  libswresample   2.  9.100 /  2.  9.100\n",
            "  libpostproc    54.  7.100 / 54.  7.100\n",
            "\u001b[0;35m[rawvideo @ 0x55e973484000] \u001b[0m\u001b[0;33mEstimating duration from bitrate, this may be inaccurate\n",
            "\u001b[0mInput #0, rawvideo, from '/content/bus_cif.yuv':\n",
            "  Duration: 00:00:06.00, start: 0.000000, bitrate: 30412 kb/s\n",
            "    Stream #0:0: Video: rawvideo (I420 / 0x30323449), yuv420p, 352x288, 30412 kb/s, 25 tbr, 25 tbn, 25 tbc\n",
            "Stream mapping:\n",
            "  Stream #0:0 -> #0:0 (rawvideo (native) -> bmp (native))\n",
            "Press [q] to stop, [?] for help\n",
            "Output #0, image2, to '%d.bmp':\n",
            "  Metadata:\n",
            "    encoder         : Lavf57.83.100\n",
            "    Stream #0:0: Video: bmp, bgr24, 352x288, q=2-31, 200 kb/s, 25 fps, 25 tbn, 25 tbc\n",
            "    Metadata:\n",
            "      encoder         : Lavc57.107.100 bmp\n",
            "frame=  150 fps=109 q=-0.0 Lsize=N/A time=00:00:06.00 bitrate=N/A speed=4.36x    \n",
            "video:44558kB audio:0kB subtitle:0kB other streams:0kB global headers:0kB muxing overhead: unknown\n"
          ]
        }
      ]
    },
    {
      "cell_type": "code",
      "metadata": {
        "id": "Hb0EDmVlLFS2",
        "colab": {
          "base_uri": "https://localhost:8080/"
        },
        "outputId": "be50e13f-9426-450d-cac9-7347596b37c1"
      },
      "source": [
        "im = load_img('/content/drive/MyDrive/SRCDN/result/video15/op1.bmp')\n",
        "im.size"
      ],
      "execution_count": null,
      "outputs": [
        {
          "output_type": "execute_result",
          "data": {
            "text/plain": [
              "(1056, 864)"
            ]
          },
          "metadata": {},
          "execution_count": 25
        }
      ]
    },
    {
      "cell_type": "markdown",
      "metadata": {
        "id": "Ft0sId2NVFhi"
      },
      "source": [
        "upscale it"
      ]
    },
    {
      "cell_type": "code",
      "metadata": {
        "colab": {
          "base_uri": "https://localhost:8080/"
        },
        "id": "76oD6qirPuiw",
        "outputId": "67a9a528-f139-4124-dd5d-fed3a4334f5a"
      },
      "source": [
        "#/content/drive/MyDrive/SRCDN/LR/video1/1.png\n",
        "upscale_factor = 4\n",
        "t_sum = 0\n",
        "for i in range(1, 5):\n",
        "  #img_path = ('/content/drive/MyDrive/SRCDN/LR/video11/' + str(i) + '.png')\n",
        "  img_path = ('/content/drive/MyDrive/SRCDN/LR/video14/'  + str(i) + '.bmp')\n",
        "  img = load_img(img_path)\n",
        "  lowres_input = get_lowres_image(img, upscale_factor)\n",
        "  w = lowres_input.size[0] * upscale_factor\n",
        "  h = lowres_input.size[1] * upscale_factor\n",
        "  #highres_img = img.resize((w, h))\n",
        "  start = time.time()\n",
        "  prediction = upscale_image(model, img)\n",
        "  end = time.time()\n",
        "  print(end-start)\n",
        "  dif = end-start\n",
        "  t_sum += dif\n",
        "  prediction.save('/content/drive/MyDrive/SRCDN/result/video15/op' + str(i) + '.bmp')\n",
        "  \n",
        "avg = t_sum/16\n",
        "print(\"the avg is\", avg)\n",
        "\n"
      ],
      "execution_count": null,
      "outputs": [
        {
          "output_type": "stream",
          "name": "stdout",
          "text": [
            "0.12935662269592285\n",
            "0.11472010612487793\n",
            "0.12139701843261719\n",
            "0.11494064331054688\n",
            "the avg is 0.030025899410247803\n"
          ]
        }
      ]
    },
    {
      "cell_type": "markdown",
      "metadata": {
        "id": "o00CJQMRVICr"
      },
      "source": [
        "see the size\n"
      ]
    },
    {
      "cell_type": "code",
      "metadata": {
        "id": "XmoAvO2DLFvb"
      },
      "source": [
        "im = load_img('/content/drive/MyDrive/SRCDN/LR/video14/1.bmp')\n",
        "im1 = get_lowres_image(im, 3)\n",
        "\n"
      ],
      "execution_count": null,
      "outputs": []
    },
    {
      "cell_type": "code",
      "metadata": {
        "colab": {
          "base_uri": "https://localhost:8080/"
        },
        "id": "cN_ZKv1QTc2G",
        "outputId": "4322696f-f9af-4116-ff1f-bb6f450ee3cc"
      },
      "source": [
        "im.size"
      ],
      "execution_count": null,
      "outputs": [
        {
          "output_type": "execute_result",
          "data": {
            "text/plain": [
              "(352, 288)"
            ]
          },
          "metadata": {},
          "execution_count": 49
        }
      ]
    },
    {
      "cell_type": "code",
      "metadata": {
        "id": "1rHVBFGrTfxA",
        "colab": {
          "base_uri": "https://localhost:8080/"
        },
        "outputId": "846afc45-89b9-45a2-ca1c-fcd1cae88921"
      },
      "source": [
        "type(im)"
      ],
      "execution_count": null,
      "outputs": [
        {
          "output_type": "execute_result",
          "data": {
            "text/plain": [
              "PIL.BmpImagePlugin.BmpImageFile"
            ]
          },
          "metadata": {},
          "execution_count": 50
        }
      ]
    },
    {
      "cell_type": "code",
      "metadata": {
        "colab": {
          "base_uri": "https://localhost:8080/"
        },
        "id": "2hGIzMIoOU3O",
        "outputId": "ccecca54-45d0-4c03-b556-bbad3c2181d2"
      },
      "source": [
        "start = time.time()\n",
        "#img = load_img('/content/drive/MyDrive/SRCDN/LR/video14/1.bmp')\n",
        "ycbcr = load_img('/content/drive/MyDrive/SRCDN/LR/video14/1.bmp')\n",
        "#ycbcr = img.convert(\"YCbCr\")\n",
        "y, cb, cr = ycbcr.split()\n",
        "y = img_to_array(y)\n",
        "y = y.astype(\"float32\") / 255.0\n",
        "input = np.expand_dims(y, axis=0)\n",
        "end = time.time()\n",
        "t1 = end-start\n",
        "print(\"t1 is \", t1)\n",
        "st = time.time()\n",
        "out = model.predict(input)\n",
        "en = time.time()\n",
        "t3 = en-st\n",
        "print(\"upscaling inf time is \",t3 )\n",
        "start1 = time.time()\n",
        "out_img_y = out[0]\n",
        "out_img_y *= 255.0\n",
        "\n",
        "# Restore the image in RGB color space.\n",
        "out_img_y = out_img_y.clip(0, 255)\n",
        "out_img_y = out_img_y.reshape((np.shape(out_img_y)[0], np.shape(out_img_y)[1]))\n",
        "out_img_y = PIL.Image.fromarray(np.uint8(out_img_y), mode=\"L\")\n",
        "out_img_cb = cb.resize(out_img_y.size, PIL.Image.BICUBIC)\n",
        "out_img_cr = cr.resize(out_img_y.size, PIL.Image.BICUBIC)\n",
        "out_img = PIL.Image.merge(\"YCbCr\", (out_img_y, out_img_cb, out_img_cr)).convert(\n",
        "    \"RGB\"\n",
        ")\n",
        "end1 = time.time()\n",
        "t2 = end1-start1\n",
        "print(\"t2 is \", t2)\n",
        "print(\"t1 + t2 is \", t1 + t2)\n",
        "print(\"whole is\", t1 + t2 + t3)\n",
        "\n",
        "\n",
        "\n"
      ],
      "execution_count": null,
      "outputs": [
        {
          "output_type": "stream",
          "name": "stdout",
          "text": [
            "t1 is  0.005537509918212891\n",
            "upscaling inf time is  0.07278776168823242\n",
            "t2 is  0.023417949676513672\n",
            "t1 + t2 is  0.028955459594726562\n",
            "whole is 0.10174322128295898\n"
          ]
        }
      ]
    }
  ]
}