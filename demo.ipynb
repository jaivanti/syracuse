{
  "nbformat": 4,
  "nbformat_minor": 0,
  "metadata": {
    "colab": {
      "name": "demo.ipynb",
      "provenance": [],
      "collapsed_sections": [],
      "include_colab_link": true
    },
    "kernelspec": {
      "name": "python3",
      "display_name": "Python 3"
    },
    "language_info": {
      "name": "python"
    }
  },
  "cells": [
    {
      "cell_type": "markdown",
      "metadata": {
        "id": "view-in-github",
        "colab_type": "text"
      },
      "source": [
        "<a href=\"https://colab.research.google.com/github/jaivanti/syracuse/blob/main/demo.ipynb\" target=\"_parent\"><img src=\"https://colab.research.google.com/assets/colab-badge.svg\" alt=\"Open In Colab\"/></a>"
      ]
    },
    {
      "cell_type": "markdown",
      "metadata": {
        "id": "6vviPIm3BL7w"
      },
      "source": [
        "# DEMO1\n"
      ]
    },
    {
      "cell_type": "markdown",
      "metadata": {
        "id": "H2tl9f9fBUPn"
      },
      "source": [
        "Import Libraries "
      ]
    },
    {
      "cell_type": "code",
      "metadata": {
        "colab": {
          "base_uri": "https://localhost:8080/"
        },
        "id": "iPNwEO2VBLL0",
        "outputId": "37dd4f1f-d36b-47fa-cf8d-6acf059dd268"
      },
      "source": [
        "from google.colab import drive\n",
        "drive.mount('/content/drive')\n"
      ],
      "execution_count": null,
      "outputs": [
        {
          "output_type": "stream",
          "name": "stdout",
          "text": [
            "Drive already mounted at /content/drive; to attempt to forcibly remount, call drive.mount(\"/content/drive\", force_remount=True).\n"
          ]
        }
      ]
    },
    {
      "cell_type": "code",
      "metadata": {
        "colab": {
          "base_uri": "https://localhost:8080/"
        },
        "id": "4nbc7iOUBTX3",
        "outputId": "761ed10b-6a58-4e3c-f757-2308a150d0bc"
      },
      "source": [
        "!pip install opencv-contrib-python==4.3.0.36\n",
        "\n"
      ],
      "execution_count": null,
      "outputs": [
        {
          "output_type": "stream",
          "name": "stdout",
          "text": [
            "Requirement already satisfied: opencv-contrib-python==4.3.0.36 in /usr/local/lib/python3.7/dist-packages (4.3.0.36)\n",
            "Requirement already satisfied: numpy>=1.14.5 in /usr/local/lib/python3.7/dist-packages (from opencv-contrib-python==4.3.0.36) (1.19.5)\n"
          ]
        }
      ]
    },
    {
      "cell_type": "code",
      "metadata": {
        "colab": {
          "base_uri": "https://localhost:8080/"
        },
        "id": "2uFNfXmBBl5j",
        "outputId": "36bc65d9-4e7b-4f83-8045-633d99aaa314"
      },
      "source": [
        "!pip install pafy\n"
      ],
      "execution_count": null,
      "outputs": [
        {
          "output_type": "stream",
          "name": "stdout",
          "text": [
            "Requirement already satisfied: pafy in /usr/local/lib/python3.7/dist-packages (0.5.5)\n"
          ]
        }
      ]
    },
    {
      "cell_type": "code",
      "metadata": {
        "colab": {
          "base_uri": "https://localhost:8080/"
        },
        "id": "JTa3Nb1K6czt",
        "outputId": "e94e7782-f6f1-4ee0-a375-e4ab03af0428"
      },
      "source": [
        "!pip install imutils pafy youtube-dl"
      ],
      "execution_count": null,
      "outputs": [
        {
          "output_type": "stream",
          "name": "stdout",
          "text": [
            "Requirement already satisfied: imutils in /usr/local/lib/python3.7/dist-packages (0.5.4)\n",
            "Requirement already satisfied: pafy in /usr/local/lib/python3.7/dist-packages (0.5.5)\n",
            "Requirement already satisfied: youtube-dl in /usr/local/lib/python3.7/dist-packages (2021.6.6)\n"
          ]
        }
      ]
    },
    {
      "cell_type": "code",
      "metadata": {
        "id": "a99CPNdhBiNg"
      },
      "source": [
        "import cv2\n",
        "from cv2 import dnn_superres\n",
        "import numpy as np\n",
        "import imutils\n"
      ],
      "execution_count": null,
      "outputs": []
    },
    {
      "cell_type": "code",
      "metadata": {
        "id": "h60IZH1sKLh7"
      },
      "source": [
        "import tensorflow as tf\n",
        "import os,sys\n",
        "import PIL\n",
        "import os\n",
        "from PIL import Image"
      ],
      "execution_count": null,
      "outputs": []
    },
    {
      "cell_type": "code",
      "metadata": {
        "id": "HtmzSrV2NTnd"
      },
      "source": [
        "%matplotlib inline\n",
        "\n",
        "import matplotlib.pyplot as plt"
      ],
      "execution_count": null,
      "outputs": []
    },
    {
      "cell_type": "markdown",
      "metadata": {
        "id": "tCUfLwGyB2YE"
      },
      "source": [
        "Make a directory 'PATH'"
      ]
    },
    {
      "cell_type": "code",
      "metadata": {
        "colab": {
          "base_uri": "https://localhost:8080/"
        },
        "id": "0gNJTEUlB8q_",
        "outputId": "da788105-5cc1-4985-bf9a-dc8e69c92dcf"
      },
      "source": [
        "!mkdir -p /content/PATH/\n",
        "%cd PATH"
      ],
      "execution_count": null,
      "outputs": [
        {
          "output_type": "stream",
          "name": "stdout",
          "text": [
            "[Errno 2] No such file or directory: 'PATH'\n",
            "/content/PATH\n"
          ]
        }
      ]
    },
    {
      "cell_type": "markdown",
      "metadata": {
        "id": "lb038zDWDFqY"
      },
      "source": [
        "Convert a youtube video  into Frames"
      ]
    },
    {
      "cell_type": "code",
      "metadata": {
        "id": "TB7gk1wKCmLJ"
      },
      "source": [
        "import pafy\n",
        "url = 'https://www.youtube.com/watch?v=FtdpDjV0dMY' #Insert a youtube link\n",
        "video = pafy.new(url)\n",
        "videoStream = video.getbestvideo()\n",
        "vidcap  = cv2.VideoCapture(videoStream.url)"
      ],
      "execution_count": null,
      "outputs": []
    },
    {
      "cell_type": "code",
      "metadata": {
        "id": "Os8GvHe9C2Ia"
      },
      "source": [
        "def getFrame(time,frameCount):\n",
        "   vidcap.set(cv2.CAP_PROP_POS_MSEC,time)\n",
        "   frameDet, frame = vidcap.read()\n",
        "   if frameDet:\n",
        "      frame = imutils.resize(frame,width=128)\n",
        "      cv2.imwrite(str(frameCount)+\".jpg\", frame)"
      ],
      "execution_count": null,
      "outputs": []
    },
    {
      "cell_type": "code",
      "metadata": {
        "id": "GfWCpGhBC3Td"
      },
      "source": [
        "startTime = 0\n",
        "frameRate = 500\n",
        "frameCount = 1\n",
        "h,m,s = video.duration.split(sep=':')\n",
        "endTime = (int(h)*3600 + int(m)*60 +int(s))*1000\n",
        "for time in range(startTime,endTime,frameRate):\n",
        "   frameCount = frameCount + 1\n",
        "   time = round(time,2)\n",
        "   getFrame(time,frameCount)"
      ],
      "execution_count": null,
      "outputs": []
    },
    {
      "cell_type": "markdown",
      "metadata": {
        "id": "tDdRxuFNDWQ5"
      },
      "source": [
        "Download Pretrained model and start Processing for SR"
      ]
    },
    {
      "cell_type": "code",
      "metadata": {
        "id": "9sK9ixc0B92Q"
      },
      "source": [
        "# Create an SR object\n",
        "sr = dnn_superres.DnnSuperResImpl_create()\n"
      ],
      "execution_count": null,
      "outputs": []
    },
    {
      "cell_type": "code",
      "metadata": {
        "id": "k7OUtfJ8C6PB"
      },
      "source": [
        "path = \"/content/drive/MyDrive/SR CDN/ESPCN_x3.pb\" #(suyash path)\n",
        "#path = \"/content/drive/MyDrive/ESPCN_x3.pb\" #(jaivanti path)\n",
        "sr.readModel(path)"
      ],
      "execution_count": null,
      "outputs": []
    },
    {
      "cell_type": "code",
      "metadata": {
        "id": "Nxal1AheDewi"
      },
      "source": [
        "sr.setModel(\"espcn\",3) #upscale factor=3"
      ],
      "execution_count": null,
      "outputs": []
    },
    {
      "cell_type": "code",
      "metadata": {
        "colab": {
          "base_uri": "https://localhost:8080/"
        },
        "id": "cqkN-cqn1jrp",
        "outputId": "7374e2bd-7cbb-4116-c669-ab1e893dbdea"
      },
      "source": [
        "directory = '/content/PATH/'\n",
        "for filename in os.scandir(directory):\n",
        "    if (filename.path.endswith(\".jpg\") or filename.path.endswith(\".png\")):\n",
        "        print(filename.path)\n",
        "        image = cv2.imread(filename.path)\n",
        "        result = sr.upsample(image)\n",
        "        cv2.imwrite(\"./upscaled.png\", result)\n",
        "        "
      ],
      "execution_count": null,
      "outputs": [
        {
          "output_type": "stream",
          "name": "stdout",
          "text": [
            "/content/PATH/7.jpg\n",
            "/content/PATH/2.jpg\n",
            "/content/PATH/5.jpg\n",
            "/content/PATH/3.jpg\n",
            "/content/PATH/upscaled.png\n",
            "/content/PATH/6.jpg\n",
            "/content/PATH/4.jpg\n"
          ]
        }
      ]
    },
    {
      "cell_type": "markdown",
      "metadata": {
        "id": "YlDUH1OrIg77"
      },
      "source": [
        "INFERENCE TIME CALCULATION(PER FRAME)"
      ]
    },
    {
      "cell_type": "code",
      "metadata": {
        "colab": {
          "base_uri": "https://localhost:8080/"
        },
        "id": "0dqwWcO-1qdF",
        "outputId": "38feb4c4-4b09-479e-c975-c15bfdaff77b"
      },
      "source": [
        "import time\n",
        "directory = '/content/PATH/'\n",
        "#start = time.time()\n",
        "for filename in os.scandir(directory):\n",
        "    if (filename.path.endswith(\".jpg\") or filename.path.endswith(\".png\")):\n",
        "        print(filename.path)\n",
        "        image = cv2.imread(filename.path)\n",
        "        start = time.time()\n",
        "        result = sr.upsample(image)\n",
        "        end = time.time()\n",
        "        #cv2.imwrite(\"./upscaled.png\", result)\n",
        "        print(\"[INFO] inference time {:.6f} seconds \".format(end - start)) "
      ],
      "execution_count": null,
      "outputs": [
        {
          "output_type": "stream",
          "name": "stdout",
          "text": [
            "/content/PATH/7.jpg\n",
            "[INFO] inference time 0.058319 seconds \n",
            "/content/PATH/2.jpg\n",
            "[INFO] inference time 0.051571 seconds \n",
            "/content/PATH/5.jpg\n",
            "[INFO] inference time 0.052205 seconds \n",
            "/content/PATH/3.jpg\n",
            "[INFO] inference time 0.058965 seconds \n",
            "/content/PATH/upscaled.png\n",
            "[INFO] inference time 0.483574 seconds \n",
            "/content/PATH/6.jpg\n",
            "[INFO] inference time 0.069253 seconds \n",
            "/content/PATH/4.jpg\n",
            "[INFO] inference time 0.053618 seconds \n"
          ]
        }
      ]
    },
    {
      "cell_type": "markdown",
      "metadata": {
        "id": "mzBEJKJCJET6"
      },
      "source": [
        "UPSCALING THE FRAMES"
      ]
    },
    {
      "cell_type": "code",
      "metadata": {
        "id": "qoWPIugLIyUU"
      },
      "source": [
        "#upscaling\n",
        "for i in range(2,8):\n",
        "  name = '/content/PATH/' + str(i) + '.jpg'\n",
        "  image = cv2.imread(name)\n",
        "  result = sr.upsample(image)\n",
        "  name_f = '/content/PATH/up' + str(i) + '.png'\n",
        "  cv2.imwrite(name_f, result)"
      ],
      "execution_count": null,
      "outputs": []
    },
    {
      "cell_type": "markdown",
      "metadata": {
        "id": "BaPMOttAJSjl"
      },
      "source": [
        "RESIZING"
      ]
    },
    {
      "cell_type": "code",
      "metadata": {
        "id": "KxYaITzkIy1v"
      },
      "source": [
        "#RESIzING\n",
        "for i in range(2,8):\n",
        "  img = cv2.imread('/content/PATH/' + str(i) + '.jpg')\n",
        "  \n",
        "  scale_percent = 300 # percent of original size\n",
        "  width = int(img.shape[1] * scale_percent / 100)\n",
        "  height = int(img.shape[0] * scale_percent / 100)\n",
        "  dim = (width, height)\n",
        "    \n",
        "  # resize image\n",
        "  resized = cv2.resize(img, dim, interpolation = cv2.INTER_AREA)\n",
        "\n",
        "  name = '/content/PATH/resized' + str(i) + '.png'\n",
        "  cv2.imwrite(name,resized )\n",
        "  \n",
        "  \n",
        "  #print('Resized Dimensions : ',resized.shape)\n",
        "  \n",
        "  #cv2_imshow(resized)\n",
        "  cv2.waitKey(0)\n",
        "  cv2.destroyAllWindows()\n"
      ],
      "execution_count": null,
      "outputs": []
    },
    {
      "cell_type": "markdown",
      "metadata": {
        "id": "gkB3rs4hJc2I"
      },
      "source": [
        "PSNR CALCULATION"
      ]
    },
    {
      "cell_type": "code",
      "metadata": {
        "id": "2eLN2LXYIy6c"
      },
      "source": [
        "from math import log10, sqrt\n",
        "import cv2\n",
        "import numpy as np\n",
        "\n",
        "def PSNR(original, compressed):\n",
        "\tmse = np.mean((original - compressed) ** 2)\n",
        "\tif(mse == 0): # MSE is zero means no noise is present in the signal .\n",
        "\t\t\t\t# Therefore PSNR have no importance.\n",
        "\t\treturn 100\n",
        "\tmax_pixel = 255.0\n",
        "\tpsnr = 20 * log10(max_pixel / sqrt(mse))\n",
        "\treturn psnr"
      ],
      "execution_count": null,
      "outputs": []
    },
    {
      "cell_type": "code",
      "metadata": {
        "id": "VatSYvv2Iy_j"
      },
      "source": [
        "#PSNR\n",
        "for i in range(2,8):\n",
        "  name_c = '/content/PATH/resized' + str(i) + '.png'\n",
        "  compressed = cv2.imread(name_c)\n",
        "  name_o = '/content/PATH/Up' + str(i) + '.png'\n",
        "  original = cv2.imread(name_o)\n",
        "  value = PSNR(original, compressed)\n",
        "  print(f\"PSNR value is {value} dB\")"
      ],
      "execution_count": null,
      "outputs": []
    },
    {
      "cell_type": "markdown",
      "metadata": {
        "id": "VS7rAWOxJ2Xv"
      },
      "source": [
        "SSIM CALCULATION"
      ]
    },
    {
      "cell_type": "code",
      "metadata": {
        "id": "piwshhW3IzFv"
      },
      "source": [
        "#SSIM\n",
        "from skimage.metrics import structural_similarity as ssim\n",
        "for i in range(2,8):\n",
        "  name_c = '/content/PATH/resized' + str(i) + '.png'\n",
        "  compressed = cv2.imread(name_c)\n",
        "  name_o = '/content/PATH/Up' + str(i) + '.png'\n",
        "  original = cv2.imread(name_o)\n",
        "  value = ssim(original, compressed, multichannel=True)\n",
        "  print(f\"ssim value is {value} dB\")"
      ],
      "execution_count": null,
      "outputs": []
    },
    {
      "cell_type": "markdown",
      "metadata": {
        "id": "VglkAFt3J9nH"
      },
      "source": [
        "MERGING FRAMES TO MAKE VIDEO"
      ]
    },
    {
      "cell_type": "code",
      "metadata": {
        "id": "CIOGfs-IIzIl"
      },
      "source": [
        "#MERGING FRAMES\n",
        "import cv2\n",
        "import numpy as np\n",
        "import glob\n",
        "\n",
        "img_array = []\n",
        "for i in range(2,8):\n",
        "  name = '/content/PATH/Up' + str(i) + '.png'\n",
        "\n",
        "  for filename in glob.glob(name):\n",
        "      img = cv2.imread(filename)\n",
        "      height, width, layers = img.shape\n",
        "      size = (width,height)\n",
        "      img_array.append(img)\n",
        "\n",
        "\n",
        "out = cv2.VideoWriter('project.avi',cv2.VideoWriter_fourcc(*'DIVX'), 15, size)\n",
        " \n",
        "for i in range(len(img_array)):\n",
        "    out.write(img_array[i])\n",
        "out.release()\n"
      ],
      "execution_count": null,
      "outputs": []
    }
  ]
}